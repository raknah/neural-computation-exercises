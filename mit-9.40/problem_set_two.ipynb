{
 "cells": [
  {
   "cell_type": "code",
   "id": "initial_id",
   "metadata": {
    "collapsed": true,
    "ExecuteTime": {
     "end_time": "2024-07-08T12:34:22.417384Z",
     "start_time": "2024-07-08T12:34:22.409675Z"
    }
   },
   "source": [
    "import scipy.io\n",
    "import numpy as np\n",
    "from matplotlib import pyplot as plt\n",
    "from matplotlib import animation\n",
    "from IPython.display import HTML\n",
    "\n",
    "%matplotlib inline"
   ],
   "outputs": [],
   "execution_count": 68
  },
  {
   "metadata": {},
   "cell_type": "markdown",
   "source": "# problem one",
   "id": "81cc4ef918831303"
  },
  {
   "metadata": {},
   "cell_type": "markdown",
   "source": "## creating a LIF model for a single neuron",
   "id": "cf3726df173d4bee"
  },
  {
   "metadata": {},
   "cell_type": "code",
   "outputs": [],
   "execution_count": null,
   "source": [
    "def LIFmodel(amplitude):\n",
    "    duration = 1000  # Duration of the simulation in ms\n",
    "    dt = 0.01  # Time step in ms\n",
    "    v_threshold = -50  # Spike threshold in mV\n",
    "    v_reset = -70  # Reset potential in mV\n",
    "    v_rest = -75  # Resting potential in mV\n",
    "    resistance = 100  # Membrane resistance in MOhm\n",
    "    capacitance = 0.2005  # Membrane capacitance in nF\n",
    "    tau = resistance * capacitance  # Membrane time constant in ms\n",
    "\n",
    "    # Defining time vector\n",
    "    t = np.arange(0, duration, dt)\n",
    "\n",
    "    # Initializing voltage and current vectors\n",
    "    V = np.zeros(len(t))\n",
    "    V[0] = v_rest  # Initial voltage\n",
    "    I = np.zeros(len(t))\n",
    "    I[:] = amp  # Constant input current\n",
    "\n",
    "    # Simulation\n",
    "    spikeTimes = []\n",
    "\n",
    "    for i in range(1, len(t) - 2):\n",
    "        v_infty = I[i] * resistance + v_rest\n",
    "        V[i] = v_infty + (V[i-1] - v_infty) * np.exp(-dt/tau)\n",
    "        if V[i] >= v_threshold:\n",
    "            V[i-1] = +35\n",
    "            V[i] = v_reset  # Spike and reset\n",
    "            spikeTimes.append(t[i])\n",
    "\n",
    "    return V, I, t, spikeTimes\n",
    "\n",
    "amp = 0.275  # Amplitude of the current pulse in nanoAmperes (nA)\n",
    "V, I, t, spikeTimes = LIFmodel(amp)\n",
    "\n",
    "# Plotting the results\n",
    "plt.figure(figsize=(10, 6))\n",
    "plt.plot(t, V, label='Membrane Potential (V)')\n",
    "plt.xlabel('Time (ms)')\n",
    "plt.ylabel('Membrane Potential (mV)')\n",
    "plt.title('LIF Model Simulation')\n",
    "plt.legend()\n",
    "plt.show()"
   ],
   "id": "1a20639f54dd2ebf"
  },
  {
   "metadata": {},
   "cell_type": "code",
   "outputs": [],
   "execution_count": null,
   "source": "",
   "id": "3fb8a76e7063960a"
  }
 ],
 "metadata": {
  "kernelspec": {
   "display_name": "Python 3",
   "language": "python",
   "name": "python3"
  },
  "language_info": {
   "codemirror_mode": {
    "name": "ipython",
    "version": 2
   },
   "file_extension": ".py",
   "mimetype": "text/x-python",
   "name": "python",
   "nbconvert_exporter": "python",
   "pygments_lexer": "ipython2",
   "version": "2.7.6"
  }
 },
 "nbformat": 4,
 "nbformat_minor": 5
}
